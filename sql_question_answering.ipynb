{
 "cells": [
  {
   "cell_type": "markdown",
   "metadata": {},
   "source": [
    "### QA over SQL Data"
   ]
  },
  {
   "cell_type": "markdown",
   "metadata": {},
   "source": [
    "We will create a Q&A app over tabular data in databases\n",
    "These app will allow us to ask a question about the data in a database in natural language and get an answer also in natural language\n"
   ]
  },
  {
   "cell_type": "code",
   "execution_count": 1,
   "metadata": {},
   "outputs": [],
   "source": [
    "import warnings\n",
    "from langchain._api import LangChainDeprecationWarning\n",
    "warnings.simplefilter(\n",
    "    \"ignore\",\n",
    "    category=LangChainDeprecationWarning\n",
    ")"
   ]
  },
  {
   "cell_type": "code",
   "execution_count": 2,
   "metadata": {},
   "outputs": [
    {
     "data": {
      "text/plain": [
       "'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'"
      ]
     },
     "execution_count": 2,
     "metadata": {},
     "output_type": "execute_result"
    }
   ],
   "source": [
    "from dotenv import load_dotenv\n",
    "import os\n",
    "load_dotenv()\n",
    "groq_key = os.getenv(\"GROQ\")\n",
    "groq_key"
   ]
  },
  {
   "cell_type": "code",
   "execution_count": 3,
   "metadata": {},
   "outputs": [],
   "source": [
    "# deepseek-r1-distill-llama-70b\n",
    "from langchain_groq import ChatGroq\n",
    "groq_model = ChatGroq(\n",
    "    model=\"gemma2-9b-it\",\n",
    "    groq_api_key=groq_key)"
   ]
  },
  {
   "cell_type": "markdown",
   "metadata": {},
   "source": [
    "### Connect wit the database"
   ]
  },
  {
   "cell_type": "code",
   "execution_count": 4,
   "metadata": {},
   "outputs": [],
   "source": [
    "from langchain_community.utilities import SQLDatabase\n",
    "\n",
    "sqlite_db_path = \"data/street_tree_db.sqlite\"\n",
    "db = SQLDatabase.from_uri(\n",
    "    f\"sqlite:///{sqlite_db_path}\"\n",
    ")"
   ]
  },
  {
   "cell_type": "markdown",
   "metadata": {},
   "source": [
    "### Convert the question into sql query\n",
    "### Execute the query\n",
    "### Use the result to answer the original question"
   ]
  },
  {
   "cell_type": "code",
   "execution_count": 5,
   "metadata": {},
   "outputs": [
    {
     "name": "stdout",
     "output_type": "stream",
     "text": [
      "Question: How many species of trees are in San Francisco?\n",
      "SQLQuery: SELECT COUNT(DISTINCT \"qSpecies\") FROM street_trees\n"
     ]
    }
   ],
   "source": [
    "from langchain.chains import create_sql_query_chain\n",
    "chain = create_sql_query_chain(\n",
    "        groq_model, db\n",
    ")\n",
    "response = chain.invoke(\n",
    "    {\n",
    "        \"question\": \"How many species of trees are in San Francisco?\"\n",
    "    }\n",
    ")\n",
    "print(response)"
   ]
  },
  {
   "cell_type": "code",
   "execution_count": null,
   "metadata": {},
   "outputs": [],
   "source": [
    "#SELECT COUNT(DISTINCT \"qSpecies\") FROM street_trees;"
   ]
  },
  {
   "cell_type": "code",
   "execution_count": 7,
   "metadata": {},
   "outputs": [
    {
     "name": "stdout",
     "output_type": "stream",
     "text": [
      "SELECT COUNT(DISTINCT \"qSpecies\") FROM street_trees\n"
     ]
    }
   ],
   "source": [
    "import re\n",
    "# Regex pattern to extract any SQL query\n",
    "match = re.search(r\"SQLQuery:\\s*(.+)$\", response, re.DOTALL)\n",
    "if match:\n",
    "    sql_query = match.group(1)\n",
    "    print(sql_query)\n",
    "else:\n",
    "    print(\"SQL query not found.\")"
   ]
  },
  {
   "cell_type": "code",
   "execution_count": 8,
   "metadata": {},
   "outputs": [
    {
     "data": {
      "text/plain": [
       "'[(148,)]'"
      ]
     },
     "execution_count": 8,
     "metadata": {},
     "output_type": "execute_result"
    }
   ],
   "source": [
    "db.run(sql_query)"
   ]
  },
  {
   "cell_type": "markdown",
   "metadata": {},
   "source": [
    "Executing the SQL query"
   ]
  },
  {
   "cell_type": "code",
   "execution_count": 13,
   "metadata": {},
   "outputs": [
    {
     "name": "stdout",
     "output_type": "stream",
     "text": [
      "Extracted SQL Query: SELECT DISTINCT \"qSpecies\" FROM street_trees LIMIT 3\n",
      "Query Result: [(\"Arbutus 'Marina' :: Hybrid Strawberry Tree\",), ('Afrocarpus gracilior :: Fern Pine',), (\"Thuja occidentalis 'Emerald' :: Emerald Arborvitae\",)]\n"
     ]
    }
   ],
   "source": [
    "from langchain_community.tools.sql_database.tool import QuerySQLDataBaseTool\n",
    "import re\n",
    "write_query = create_sql_query_chain(\n",
    "    groq_model, db\n",
    ")\n",
    "execute_query = QuerySQLDataBaseTool(\n",
    "    db=db\n",
    ")\n",
    "# Invoke the query generation\n",
    "response = write_query.invoke({\"question\": \"List 3 species of trees that are present in San Francisco\"})\n",
    "\n",
    "# Step 2: Extract SQL query\n",
    "match = re.search(r\"SQLQuery:\\s*(.+)$\", response, re.DOTALL)\n",
    "\n",
    "if match:\n",
    "    sql_query = match.group(1).strip()\n",
    "    print(\"Extracted SQL Query:\", sql_query)\n",
    "\n",
    "    # Step 3: Execute the extracted query\n",
    "    result = execute_query.invoke({\"query\": sql_query})\n",
    "    print(\"Query Result:\", result)\n",
    "else:\n",
    "    print(\"SQL query not found.\")"
   ]
  },
  {
   "cell_type": "markdown",
   "metadata": {},
   "source": [
    "Translate SQL response to Natural Language Response"
   ]
  },
  {
   "cell_type": "code",
   "execution_count": 14,
   "metadata": {},
   "outputs": [
    {
     "name": "stdout",
     "output_type": "stream",
     "text": [
      "Here are 3 species of trees present in San Francisco:\n",
      "\n",
      "* Arbutus 'Marina' Hybrid Strawberry Tree\n",
      "* Afrocarpus gracilior Fern Pine\n",
      "* Thuja occidentalis 'Emerald' Emerald Arborvitae \n",
      "\n",
      "\n",
      "\n"
     ]
    }
   ],
   "source": [
    "from operator import itemgetter\n",
    "import re\n",
    "from langchain_core.output_parsers import StrOutputParser\n",
    "from langchain_core.prompts import PromptTemplate\n",
    "from langchain_core.runnables import RunnablePassthrough\n",
    "\n",
    "answer_prompt = PromptTemplate.from_template(\n",
    "    \"\"\"Given the following user question, \n",
    "    corresponding SQL query, and SQL result, \n",
    "    answer the user question.\n",
    "\n",
    "Question: {question}\n",
    "SQL Query: {query}\n",
    "SQL Result: {result}\n",
    "Answer: \"\"\"\n",
    ")\n",
    "\n",
    "\n",
    "# Define a function to extract SQL query using regex in LCEL\n",
    "def extract_sql_query(response):\n",
    "    match = re.search(r\"SQLQuery:\\s*(.+)$\", response, re.DOTALL)\n",
    "    return match.group(1).strip() if match else \"SQL query not found.\"\n",
    "\n",
    "write_query = create_sql_query_chain(groq_model, db)\n",
    "\n",
    "execute_query = QuerySQLDataBaseTool(db=db)\n",
    "\n",
    "# LCEL Chain\n",
    "chain = (\n",
    "    RunnablePassthrough.assign(query=write_query)\n",
    "    .assign(extracted_query=itemgetter(\"query\") | StrOutputParser() | extract_sql_query)\n",
    "    .assign(result=itemgetter(\"extracted_query\") | execute_query)\n",
    "    | answer_prompt\n",
    "    | groq_model\n",
    "    | StrOutputParser()\n",
    ")\n",
    "\n",
    "response = chain.invoke({\"question\": \"List 3 species of trees that are present in San Francisco\"})\n",
    "\n",
    "print(response)"
   ]
  },
  {
   "cell_type": "code",
   "execution_count": null,
   "metadata": {},
   "outputs": [],
   "source": []
  }
 ],
 "metadata": {
  "kernelspec": {
   "display_name": "sql_QA",
   "language": "python",
   "name": "python3"
  },
  "language_info": {
   "codemirror_mode": {
    "name": "ipython",
    "version": 3
   },
   "file_extension": ".py",
   "mimetype": "text/x-python",
   "name": "python",
   "nbconvert_exporter": "python",
   "pygments_lexer": "ipython3",
   "version": "3.10.0"
  }
 },
 "nbformat": 4,
 "nbformat_minor": 2
}
